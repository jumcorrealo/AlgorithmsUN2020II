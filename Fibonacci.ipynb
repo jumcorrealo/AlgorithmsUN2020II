{
  "nbformat": 4,
  "nbformat_minor": 0,
  "metadata": {
    "colab": {
      "name": "Fibonacci.ipynb",
      "provenance": [],
      "authorship_tag": "ABX9TyOvnXoMclvMAofvOQ3U9rjZ",
      "include_colab_link": true
    },
    "kernelspec": {
      "name": "python3",
      "display_name": "Python 3"
    }
  },
  "cells": [
    {
      "cell_type": "markdown",
      "metadata": {
        "id": "view-in-github",
        "colab_type": "text"
      },
      "source": [
        "<a href=\"https://colab.research.google.com/github/jumcorrealo/AlgorithmsUN2020II/blob/master/Fibonacci.ipynb\" target=\"_parent\"><img src=\"https://colab.research.google.com/assets/colab-badge.svg\" alt=\"Open In Colab\"/></a>"
      ]
    },
    {
      "cell_type": "code",
      "metadata": {
        "id": "huLPMzi8VwqF"
      },
      "source": [
        "import matplotlib.pyplot as plt\r\n",
        "from time import time\r\n",
        "n = 50\r\n",
        "n2 = 500"
      ],
      "execution_count": 1,
      "outputs": []
    },
    {
      "cell_type": "markdown",
      "metadata": {
        "id": "UgiH836ySxdU"
      },
      "source": [
        "# Recursive Fibonacci"
      ]
    },
    {
      "cell_type": "code",
      "metadata": {
        "id": "rHjolBJfSthl"
      },
      "source": [
        "def recursive_fibonacci(N):\r\n",
        "  if N == 0:\r\n",
        "      return 0\r\n",
        "  if N == 1:\r\n",
        "      return 1\r\n",
        "  return recursive_fibonacci(N-1) + recursive_fibonacci(N-2)"
      ],
      "execution_count": 2,
      "outputs": []
    },
    {
      "cell_type": "code",
      "metadata": {
        "colab": {
          "base_uri": "https://localhost:8080/",
          "height": 265
        },
        "id": "AZlAX8d8V8tO",
        "outputId": "8612427a-4677-48e0-d485-d925b86ed749"
      },
      "source": [
        "listx = []\r\n",
        "for i in range(n):\r\n",
        "  time0 = time()\r\n",
        "  recursive_fibonacci(i)\r\n",
        "  time1 = time()\r\n",
        "  listx.append(time1 - time0)\r\n",
        "\r\n",
        "plt.plot(range(n), listx[:]);"
      ],
      "execution_count": 3,
      "outputs": [
        {
          "output_type": "display_data",
          "data": {
            "image/png": "[encoded data removed]",
            "text/plain": [
              "<Figure size 432x288 with 1 Axes>"
            ]
          },
          "metadata": {
            "tags": [],
            "needs_background": "light"
          }
        }
      ]
    },
    {
      "cell_type": "markdown",
      "metadata": {
        "id": "uSwhdAboTXAd"
      },
      "source": [
        "# Iterative Fibonacci"
      ]
    },
    {
      "cell_type": "code",
      "metadata": {
        "id": "SLmt6KTfTPay"
      },
      "source": [
        "def iterative_fibonacci(N):\r\n",
        "  f1 = 0\r\n",
        "  f2 = 1\r\n",
        "  for i in range(N-1):\r\n",
        "    temp = f2 + f1\r\n",
        "    f1 = f2\r\n",
        "    f2 = temp\r\n",
        "\r\n",
        "  return f2;"
      ],
      "execution_count": 4,
      "outputs": []
    },
    {
      "cell_type": "code",
      "metadata": {
        "colab": {
          "base_uri": "https://localhost:8080/",
          "height": 269
        },
        "id": "Mji81W6SU4RC",
        "outputId": "71f94e7d-c58a-4ce1-8b87-83f83c3316a6"
      },
      "source": [
        "listx = []\r\n",
        "for i in range(n2):\r\n",
        "  time0 = time()\r\n",
        "  iterative_fibonacci(i)\r\n",
        "  time1 = time()\r\n",
        "  listx.append(time1 - time0)\r\n",
        "\r\n",
        "plt.plot(range(n2), listx[:]);"
      ],
      "execution_count": 5,
      "outputs": [
        {
          "output_type": "display_data",
          "data": {
            "image/png": "[encoded data removed]",
            "text/plain": [
              "<Figure size 432x288 with 1 Axes>"
            ]
          },
          "metadata": {
            "tags": [],
            "needs_background": "light"
          }
        }
      ]
    },
    {
      "cell_type": "code",
      "metadata": {
        "id": "1Rkvu6RGZGGa"
      },
      "source": [
        ""
      ],
      "execution_count": 5,
      "outputs": []
    }
  ]
}